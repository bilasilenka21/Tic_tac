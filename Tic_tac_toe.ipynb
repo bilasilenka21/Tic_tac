{
 "cells": [
  {
   "cell_type": "code",
   "execution_count": 1,
   "id": "1855e1a8",
   "metadata": {},
   "outputs": [],
   "source": [
    "import random"
   ]
  },
  {
   "cell_type": "code",
   "execution_count": 2,
   "id": "218842bf",
   "metadata": {},
   "outputs": [],
   "source": [
    "board= [\"__\", \"__\", \"__\",\n",
    "        \"__\", \"__\", \"__\",\n",
    "        \"__\", \"__\", \"__\"]\n",
    "currentPlayer=\"X\"\n",
    "winner= None\n",
    "gameRunning=True"
   ]
  },
  {
   "cell_type": "code",
   "execution_count": 3,
   "id": "dbca6f3b",
   "metadata": {},
   "outputs": [
    {
     "name": "stdout",
     "output_type": "stream",
     "text": [
      "__|__|__\n",
      "---------\n",
      "__|__|__\n",
      "---------\n",
      "__|__|__\n"
     ]
    }
   ],
   "source": [
    "def printBoard(board):\n",
    "    print(board[0] + \"|\" + board[1] + \"|\" + board[2])\n",
    "    print(\"---------\")\n",
    "    print(board[3] + \"|\" + board[4] + \"|\" + board[5])\n",
    "    print(\"---------\")\n",
    "    print(board[6] + \"|\" + board[7] + \"|\" + board[8])\n",
    "printBoard(board)\n",
    "    \n",
    "    \n",
    "    \n",
    "    "
   ]
  },
  {
   "cell_type": "code",
   "execution_count": 4,
   "id": "4b9bfa9a",
   "metadata": {},
   "outputs": [],
   "source": [
    "def playerInput(board):\n",
    "    inp=int(input(\"Enter a number 1-9:\"))\n",
    "    if inp>=1 and inp<=9 and board[inp-1]==\"__\":\n",
    "        board[inp-1]=currentPlayer\n",
    "    else:\n",
    "            print(\"Oops player has already occupied the spot!\")\n",
    "            "
   ]
  },
  {
   "cell_type": "code",
   "execution_count": 5,
   "id": "0f8f69af",
   "metadata": {},
   "outputs": [],
   "source": [
    "def checkHorizontal(board):\n",
    "    global winner\n",
    "    if board[0] == board[1] == board[2] and board[1] !=\"__\":\n",
    "        winner=board[0]\n",
    "        return True\n",
    "    elif board[3] == board[4] == board[5] and board[3] !=\"__\":\n",
    "        winner=board[3]\n",
    "        return True\n",
    "    elif board[6] == board[7] == board[8] and board[6] !=\"__\":\n",
    "        winner=board[6]\n",
    "        return True\n",
    "   "
   ]
  },
  {
   "cell_type": "code",
   "execution_count": 6,
   "id": "447fc867",
   "metadata": {},
   "outputs": [],
   "source": [
    "def checkRow(board):\n",
    "    global winner\n",
    "    if board[0] == board[3] == board[6] and board[0] !=\"__\":\n",
    "        winner=board[0]\n",
    "        return True\n",
    "    elif board[1] == board[4] == board[7] and board[1] !=\"__\":\n",
    "        winner=board[1]\n",
    "        return True\n",
    "    elif board[2] == board[5] == board[8] and board[2] !=\"__\":\n",
    "        winner=board[2]\n",
    "        return True\n",
    "   "
   ]
  },
  {
   "cell_type": "code",
   "execution_count": 7,
   "id": "19402391",
   "metadata": {},
   "outputs": [],
   "source": [
    "def checkDiag(board):\n",
    "    global winner\n",
    "    if board[0] == board[4] == board[8] and board[0] !=\"__\":\n",
    "        winner=board[0]\n",
    "        return True\n",
    "    elif board[2] == board[4] == board[6] and board[2] !=\"__\":\n",
    "        winner=board[2]\n",
    "        return True\n",
    "   "
   ]
  },
  {
   "cell_type": "code",
   "execution_count": 8,
   "id": "7efb3662",
   "metadata": {},
   "outputs": [],
   "source": [
    "def checkTie(board):\n",
    "    global gameRunning\n",
    "    if \"__\" not in board:\n",
    "        printBoard(board)\n",
    "        print(\"It is a tie!!\")\n",
    "        gameRunning=False"
   ]
  },
  {
   "cell_type": "code",
   "execution_count": 9,
   "id": "ae94e87c",
   "metadata": {},
   "outputs": [],
   "source": [
    "def checkWin(board):\n",
    "    if checkDiag(board) or checkHorizontal(board) or checkRow(board):\n",
    "        print(f\"The winner is {winner}\")"
   ]
  },
  {
   "cell_type": "code",
   "execution_count": 10,
   "id": "65eaa3ff",
   "metadata": {},
   "outputs": [],
   "source": [
    "def switchPlayer():\n",
    "    global currentPlayer\n",
    "    if currentPlayer==\"X\":\n",
    "        currentPlayer=\"0\"\n",
    "    else:\n",
    "        currentPlayer=\"X\""
   ]
  },
  {
   "cell_type": "code",
   "execution_count": 11,
   "id": "bf0c2b60",
   "metadata": {},
   "outputs": [],
   "source": [
    "def computer(board):\n",
    "    while currentPlayer ==\"0\":\n",
    "        position=random.randint(0,8)\n",
    "        if board[position]==\"__\":\n",
    "            board[position]=\"0\"\n",
    "            switchPlayer()"
   ]
  },
  {
   "cell_type": "code",
   "execution_count": 12,
   "id": "cd792e1b",
   "metadata": {},
   "outputs": [
    {
     "name": "stdout",
     "output_type": "stream",
     "text": [
      "__|__|__\n",
      "---------\n",
      "__|__|__\n",
      "---------\n",
      "__|__|__\n",
      "Enter a number 1-9:2\n",
      "__|X|__\n",
      "---------\n",
      "__|__|0\n",
      "---------\n",
      "__|__|__\n",
      "Enter a number 1-9:3\n",
      "0|X|X\n",
      "---------\n",
      "__|__|0\n",
      "---------\n",
      "__|__|__\n",
      "Enter a number 1-9:4\n",
      "0|X|X\n",
      "---------\n",
      "X|__|0\n",
      "---------\n",
      "0|__|__\n",
      "Enter a number 1-9:7\n",
      "Oops player has already occupied the spot!\n",
      "0|X|X\n",
      "---------\n",
      "X|__|0\n",
      "---------\n",
      "0|__|0\n",
      "Enter a number 1-9:8\n",
      "The winner is 0\n",
      "0|X|X\n",
      "---------\n",
      "X|0|0\n",
      "---------\n",
      "0|X|0\n",
      "It is a tie!!\n"
     ]
    }
   ],
   "source": [
    "while gameRunning:\n",
    "    printBoard(board)\n",
    "    playerInput(board)\n",
    "    checkWin(board)\n",
    "    checkTie(board)\n",
    "    switchPlayer()\n",
    "    computer(board)\n",
    "    checkWin(board)\n",
    "    checkTie(board)"
   ]
  },
  {
   "cell_type": "code",
   "execution_count": null,
   "id": "03e4b33e",
   "metadata": {},
   "outputs": [],
   "source": []
  },
  {
   "cell_type": "code",
   "execution_count": null,
   "id": "f9b27e7c",
   "metadata": {},
   "outputs": [],
   "source": []
  }
 ],
 "metadata": {
  "kernelspec": {
   "display_name": "Python 3 (ipykernel)",
   "language": "python",
   "name": "python3"
  },
  "language_info": {
   "codemirror_mode": {
    "name": "ipython",
    "version": 3
   },
   "file_extension": ".py",
   "mimetype": "text/x-python",
   "name": "python",
   "nbconvert_exporter": "python",
   "pygments_lexer": "ipython3",
   "version": "3.9.12"
  }
 },
 "nbformat": 4,
 "nbformat_minor": 5
}
